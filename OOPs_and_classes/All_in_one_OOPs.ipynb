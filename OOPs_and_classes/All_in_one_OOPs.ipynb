{
  "cells": [
    {
      "cell_type": "markdown",
      "metadata": {
        "id": "HYP0fHhcJaXM"
      },
      "source": [
        "# **Class & Object:**\n",
        "A class is a blueprint for creating objects. An object is an instance of a class containing data and methods."
      ]
    },
    {
      "cell_type": "markdown",
      "metadata": {
        "id": "gqCHgzilJjuh"
      },
      "source": [
        "**Creating Class and objects form these class**"
      ]
    },
    {
      "cell_type": "code",
      "execution_count": 1,
      "metadata": {
        "colab": {
          "base_uri": "https://localhost:8080/"
        },
        "id": "Lcf5gvYPILTA",
        "outputId": "caef1d6b-3f43-49d2-c223-e7dffc3bfb27"
      },
      "outputs": [
        {
          "name": "stdout",
          "output_type": "stream",
          "text": [
            "Name: Ankit, Roll Number: 25\n",
            "Name: Naina, Roll Number: 22\n"
          ]
        }
      ],
      "source": [
        "class Student:\n",
        "    def __init__(self, name, roll):\n",
        "        self.name = name                #atributes\n",
        "        self.roll = roll\n",
        "\n",
        "\n",
        "    def display(self):\n",
        "        print(f\"Name: {self.name}, Roll Number: {self.roll}\")\n",
        "\n",
        "\n",
        "\n",
        "#create object from student class\n",
        "\n",
        "student_1 = Student(\"Ankit\", 25)\n",
        "student_2 = Student(\"Naina\", 22)\n",
        "\n",
        "\n",
        "# call methods\n",
        "\n",
        "student_1.display()\n",
        "student_2.display()\n",
        "\n"
      ]
    },
    {
      "cell_type": "markdown",
      "metadata": {
        "id": "N39QPBN2KAhG"
      },
      "source": [
        "# **4 key properties of Object-Oriented Programming (OOPs) -**\n",
        "\n",
        "\n",
        "\n",
        "\n",
        "1.   Encapsulation\n",
        "2.   Inheritance\n",
        "\n",
        "1.   Polymorphism\n",
        "2.   Abstraction\n",
        "\n",
        "\n",
        "\n",
        "\n",
        "\n"
      ]
    },
    {
      "cell_type": "markdown",
      "metadata": {
        "id": "jRJ0x11YKadD"
      },
      "source": [
        "# **1. Encapsulation:**\n",
        "   Wrapping data and methods into a single unit (class) and restricting direct access using private/protected members."
      ]
    },
    {
      "cell_type": "code",
      "execution_count": 2,
      "metadata": {
        "colab": {
          "base_uri": "https://localhost:8080/",
          "height": 193
        },
        "id": "cjjRkg0hKfMt",
        "outputId": "4fd0610a-434e-4328-ba4e-0d61e43119bb"
      },
      "outputs": [
        {
          "name": "stdout",
          "output_type": "stream",
          "text": [
            "Name: Rapunzal, Roll Number: 21\n"
          ]
        },
        {
          "ename": "AttributeError",
          "evalue": "'Student' object has no attribute '__name'",
          "output_type": "error",
          "traceback": [
            "\u001b[0;31m---------------------------------------------------------------------------\u001b[0m",
            "\u001b[0;31mAttributeError\u001b[0m                            Traceback (most recent call last)",
            "\u001b[0;32m/tmp/ipython-input-2-1796334497.py\u001b[0m in \u001b[0;36m<cell line: 0>\u001b[0;34m()\u001b[0m\n\u001b[1;32m     18\u001b[0m \u001b[0ms1\u001b[0m\u001b[0;34m.\u001b[0m\u001b[0mdisplay\u001b[0m\u001b[0;34m(\u001b[0m\u001b[0;34m)\u001b[0m\u001b[0;34m\u001b[0m\u001b[0;34m\u001b[0m\u001b[0m\n\u001b[1;32m     19\u001b[0m \u001b[0;34m\u001b[0m\u001b[0m\n\u001b[0;32m---> 20\u001b[0;31m \u001b[0mprint\u001b[0m\u001b[0;34m(\u001b[0m\u001b[0ms1\u001b[0m\u001b[0;34m.\u001b[0m\u001b[0m__name\u001b[0m\u001b[0;34m)\u001b[0m\u001b[0;34m\u001b[0m\u001b[0;34m\u001b[0m\u001b[0m\n\u001b[0m",
            "\u001b[0;31mAttributeError\u001b[0m: 'Student' object has no attribute '__name'"
          ]
        }
      ],
      "source": [
        "class Student:\n",
        "    def __init__(self, name, roll):\n",
        "        self.__name = name               # private variable\n",
        "        self.roll = roll\n",
        "\n",
        "\n",
        "    def display(self):\n",
        "        print(f\"Name: {self.__name}, Roll Number: {self.roll}\")  # controlled access\n",
        "\n",
        "\n",
        "s1 = Student(\"Rapunzal\", 21)\n",
        "\n",
        "# print(s1.name)\n",
        "# print(s1.roll)\n",
        "\n",
        "# s1.display()\n",
        "\n",
        "s1.display()\n",
        "\n",
        "print(s1.__name)\n"
      ]
    },
    {
      "cell_type": "markdown",
      "metadata": {
        "id": "ZsK0P0zHKuvt"
      },
      "source": [
        "# **2. Inheritance:**\n",
        "   Allows one class to inherit properties and methods from another, promoting code reuse."
      ]
    },
    {
      "cell_type": "code",
      "execution_count": 3,
      "metadata": {
        "colab": {
          "base_uri": "https://localhost:8080/"
        },
        "id": "T_9nrUPrKywU",
        "outputId": "56ec50ed-acb2-43ad-92c3-73d518f392eb"
      },
      "outputs": [
        {
          "name": "stdout",
          "output_type": "stream",
          "text": [
            "Animal object created\n",
            "-------------------------\n",
            "Animal object created\n",
            "Animal Speak\n",
            "Dog barks\n"
          ]
        }
      ],
      "source": [
        "\n",
        "# ---------------------------------------Creating 1st class Anmimal-------------------------------------------------------------\n",
        "class Animal:\n",
        "    def __init__(self):\n",
        "        print(\"Animal object created\") #print each time when object is created due to contructor ----> \"def __init__(self)\"\n",
        "\n",
        "\n",
        "    def speak(self):\n",
        "        print(\"Animal Speak\")\n",
        "\n",
        "\n",
        "# -------------------------------------------Now 2nd class Dog-----------------------------------------------------------------\n",
        "class Dog(Animal):    #inherating from 1st class Animal\n",
        "    def bark(self):\n",
        "        print(\"Dog barks\")\n",
        "\n",
        "\n",
        "\n",
        "a = Animal() # print --> Animal object created\n",
        "\n",
        "print(\"-------------------------\")\n",
        "\n",
        "b = Dog()\n",
        "\n",
        "b.speak()      #inheritate from, parents class: Animal\"\n",
        "b.bark()                         #own method\n"
      ]
    },
    {
      "cell_type": "markdown",
      "metadata": {
        "id": "YxRz120ELSzg"
      },
      "source": [
        "# **3. Polymorphism:**\n",
        "   The ability to use the same method name in different ways (e.g., method overriding in child classes)."
      ]
    },
    {
      "cell_type": "code",
      "execution_count": 4,
      "metadata": {
        "colab": {
          "base_uri": "https://localhost:8080/"
        },
        "id": "cB6t-Sp-LgIb",
        "outputId": "fd79b219-5203-4390-b616-e567a828e846"
      },
      "outputs": [
        {
          "name": "stdout",
          "output_type": "stream",
          "text": [
            "Bird can fly\n",
            "Airplane flies high\n",
            "------------------------------------------------------------------------------------------------\n",
            "Riding a vehicle...\n",
            "Riding a bike...\n",
            "Driving a car...\n"
          ]
        }
      ],
      "source": [
        "class Bird:\n",
        "    def fly(self):\n",
        "        print(\"Bird can fly\")\n",
        "\n",
        "class Airplane:\n",
        "    def fly(self):\n",
        "        print(\"Airplane flies high\")\n",
        "\n",
        "\n",
        "\n",
        "b = Bird()\n",
        "a = Airplane()\n",
        "\n",
        "b.fly()\n",
        "a.fly()\n",
        "\n",
        "\n",
        "\n",
        "#----------------------------------------------------------------\n",
        "# Polymorphism means same name, different behavior depending on the object.\n",
        "# During inheritance - child class overrides (rides over) the parent class method.\n",
        "#----------------------------------------------------------------\n",
        "\n",
        "print(\"------------------------------------------------------------------------------------------------\")\n",
        "\n",
        "\n",
        "class Vehicle:\n",
        "    def ride(self):\n",
        "        print(\"Riding a vehicle...\")\n",
        "\n",
        "class Bike(Vehicle):\n",
        "    def ride(self):\n",
        "        print(\"Riding a bike...\")\n",
        "\n",
        "class Car(Vehicle):\n",
        "    def ride(self):\n",
        "        print(\"Driving a car...\")\n",
        "\n",
        "v0 = Vehicle()\n",
        "v1 = Bike()  #will overide the parents\n",
        "v2 = Car()      # \"\n",
        "\n",
        "v0.ride()\n",
        "v1.ride()\n",
        "v2.ride()\n"
      ]
    },
    {
      "cell_type": "markdown",
      "metadata": {
        "id": "Rx5uyaDwLmch"
      },
      "source": [
        "# **4. Abstraction:**\n",
        "   Hides complex internal details and shows only essential features to the user using abstract classes or methods."
      ]
    },
    {
      "cell_type": "code",
      "execution_count": 5,
      "metadata": {
        "colab": {
          "base_uri": "https://localhost:8080/"
        },
        "id": "LUFgxtAqLxU8",
        "outputId": "73bf79f8-8387-4866-8813-3c2c1806e889"
      },
      "outputs": [
        {
          "name": "stdout",
          "output_type": "stream",
          "text": [
            "Bark\n",
            "Meow\n",
            "_________________________\n",
            "Car engine started 🚗\n"
          ]
        }
      ],
      "source": [
        "from abc import ABC, abstractmethod\n",
        "\n",
        "class Animal(ABC):  # Abstract Base Class\n",
        "    @abstractmethod\n",
        "    def sound(self):\n",
        "        pass\n",
        "\n",
        "class Dog(Animal):\n",
        "    def sound(self):\n",
        "        return \"Bark\"\n",
        "\n",
        "class Cat(Animal):\n",
        "    def sound(self):\n",
        "        return \"Meow\"\n",
        "\n",
        "\n",
        "# Create objects\n",
        "dog = Dog()\n",
        "cat = Cat()\n",
        "\n",
        "# Call methods\n",
        "print(dog.sound())   # Output: Bark\n",
        "print(cat.sound())   # Output: Meow\n",
        "\n",
        "\n",
        "# You can’t create object of Animal, only of Dog or Cat, which implement the method.\n",
        "\n",
        "\n",
        "#-------------------------------------------------------------------------------------------\n",
        "\n",
        "print(\"_________________________\")\n",
        "\n",
        "from abc import ABC, abstractmethod\n",
        "\n",
        "class Vehicle(ABC):  # Abstract Class\n",
        "    @abstractmethod\n",
        "    def start_engine(self):\n",
        "        pass\n",
        "\n",
        "# Try to create object\n",
        "# v = Vehicle()  #❌ Error! Can't instantiate abstract class\n",
        "\n",
        "class Car(Vehicle):  # Child Class\n",
        "    def start_engine(self):\n",
        "        print(\"Car engine started 🚗\")\n",
        "\n",
        "c = Car()\n",
        "c.start_engine()\n",
        "\n",
        "\n",
        "\n",
        "\n",
        "\n",
        "\n",
        "\n",
        "\n",
        "\n",
        "# Abstract class is like a contract or template.\n",
        "# Child classes are the ones that bring it to life.\n"
      ]
    }
  ],
  "metadata": {
    "colab": {
      "provenance": []
    },
    "kernelspec": {
      "display_name": "Python 3",
      "name": "python3"
    },
    "language_info": {
      "name": "python"
    }
  },
  "nbformat": 4,
  "nbformat_minor": 0
}
